{
 "cells": [
  {
   "cell_type": "markdown",
   "metadata": {},
   "source": [
    "TODO: placeholder for more detailed discussions on the implementation of GraphicalModelLearning.jl methods for verifying samples came from the appropriate underlying distribution.\n",
    "\n",
    "\n",
    "https://github.com/lanl-ansi/GraphicalModelLearning.jl"
   ]
  },
  {
   "cell_type": "code",
   "execution_count": null,
   "metadata": {
    "vscode": {
     "languageId": "plaintext"
    }
   },
   "outputs": [],
   "source": []
  }
 ],
 "metadata": {
  "language_info": {
   "name": "python"
  },
  "orig_nbformat": 4
 },
 "nbformat": 4,
 "nbformat_minor": 2
}
