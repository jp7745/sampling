{
 "cells": [
  {
   "cell_type": "code",
   "execution_count": 1,
   "metadata": {},
   "outputs": [],
   "source": [
    "import pprint\n",
    "import json\n",
    "import datetime\n",
    "\n",
    "import h5py\n",
    "\n",
    "import numpy as np\n",
    "np.random.seed(17) # fix NumPy random number generator seed\n",
    "\n",
    "import networkx as nx\n",
    "import matplotlib.pyplot as plt\n",
    "\n",
    "\n",
    "# add some relative paths so we can import sampling.py module.\n",
    "import sys\n",
    "sys.path.append(\"../\")\n",
    "sys.path.append(\"../src\")\n",
    "sys_path = sys.path\n",
    "\n",
    "import sampling"
   ]
  },
  {
   "cell_type": "markdown",
   "metadata": {},
   "source": [
    "# Benchmark Workflow\n",
    "\n",
    "The *benchmark performer* shall:\n",
    "1. Select an `instance.<uuid-x>.json` file from the `benchmark_instances` directory.\n",
    "2. Generate samples from the instance using their method and hardware of choice.  The `instance.<uuid-x>.json` file includes the appropriate time limit and number of samples $k$ to generate.\n",
    "3. Write the samples they generated to `solution.<uuid-y>.hdf5` file in the `benchmark_performer_submissions` folder.  Metadata fields inside of the `solution.<uuid-y>.hdf5` reference the original `instance.<uuid-x>.json` file and UUID.\n",
    "\n",
    "\n",
    "The *benchmark proctor* shall:\n",
    "1. Select a `solution.<uuid-y>.hdf5` file and perform verification that the $k$ samples were accurately drawn from the system of interest.\n",
    "2. Write out performance metrics to a `performance_metrics.<uuid-z>.json` file in the `benchmark_performance_metrics` directory.\n",
    "\n",
    "\n",
    "Optionally:  a script will parse `performance_metrics.*.json` files in the `benchmark_performance_metrics` directory and present summary statistics, plots, etc.\n"
   ]
  },
  {
   "cell_type": "code",
   "execution_count": 2,
   "metadata": {},
   "outputs": [
    {
     "name": "stdout",
     "output_type": "stream",
     "text": [
      "Benchmark Instance UUID: b'a8be0d9a-3238-11ee-b3fb-9309595bcf35'\n",
      "Benchmark Performer Solution UUID: b'ee69de1e-3620-11ee-be05-8f4ea6fc831a'\n"
     ]
    }
   ],
   "source": [
    "# Acting as the Benchmark Proctor:\n",
    "#\n",
    "# Fetch the solution file submitted by the benchmark performer\n",
    "\n",
    "\n",
    "solution_uuid = \"ee69de1e-3620-11ee-be05-8f4ea6fc831a\" \n",
    "solution_filename = \"../benchmark_performer_submissions/solution.\" + solution_uuid + \".h5\"\n",
    "\n",
    "with h5py.File(solution_filename, \"r\") as f:\n",
    "    print(\"Benchmark Instance UUID:\",f[\"solution\"][\"instance_uuid\"][()])\n",
    "    print(\"Benchmark Performer Solution UUID:\",f[\"solution\"][\"solution_uuid\"][()])\n",
    "\n",
    "    states_observed = f[\"solution\"][\"solution_reported\"][\"states_observed\"][()]\n",
    "    states_observed_counts = f[\"solution\"][\"solution_reported\"][\"states_observed_counts\"][()]\n",
    "\n",
    "    f.close()\n",
    "\n",
    "    \n"
   ]
  },
  {
   "cell_type": "code",
   "execution_count": 3,
   "metadata": {},
   "outputs": [
    {
     "name": "stdout",
     "output_type": "stream",
     "text": [
      "Num samples returned from benchmark performer: 1000.0\n"
     ]
    }
   ],
   "source": [
    "\n",
    "\n",
    "k_returned = states_observed_counts.sum()\n",
    "\n",
    "# TODO: calculate average time per sample.  including number of CPUs used if parallelized.  \n",
    "\n",
    "print(\"Num samples returned from benchmark performer:\",k_returned)\n",
    "\n",
    "#### TODO:  implement verification methods from https://github.com/lanl-ansi/GraphicalModelLearning.jl"
   ]
  },
  {
   "cell_type": "code",
   "execution_count": null,
   "metadata": {},
   "outputs": [],
   "source": []
  }
 ],
 "metadata": {
  "kernelspec": {
   "display_name": "scip",
   "language": "python",
   "name": "python3"
  },
  "language_info": {
   "codemirror_mode": {
    "name": "ipython",
    "version": 3
   },
   "file_extension": ".py",
   "mimetype": "text/x-python",
   "name": "python",
   "nbconvert_exporter": "python",
   "pygments_lexer": "ipython3",
   "version": "3.11.4"
  },
  "orig_nbformat": 4
 },
 "nbformat": 4,
 "nbformat_minor": 2
}
